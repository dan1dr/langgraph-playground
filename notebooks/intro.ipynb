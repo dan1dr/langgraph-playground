{
 "cells": [
  {
   "cell_type": "markdown",
   "metadata": {},
   "source": [
    "\n",
    "# LangGraph: Quick start"
   ]
  },
  {
   "cell_type": "code",
   "execution_count": 5,
   "metadata": {},
   "outputs": [],
   "source": [
    "%%capture --no-stderr\n",
    "%pip install -U langgraph langsmith langchain_anthropice"
   ]
  },
  {
   "cell_type": "code",
   "execution_count": 22,
   "metadata": {},
   "outputs": [],
   "source": [
    "import getpass\n",
    "import os\n",
    "from dotenv import load_dotenv\n",
    "\n",
    "# Load environment variables from the .env file\n",
    "load_dotenv()\n",
    "\n",
    "# Access the keys to not input them every time\n",
    "anthropic_api_key = os.getenv(\"ANTHROPIC_API_KEY\")\n",
    "langchain_api_key = os.getenv(\"LANGCHAIN_API_KEY\")\n",
    "\n",
    "def _set_env(var: str):\n",
    "    if not os.environ.get(var):\n",
    "        os.environ[var] = getpass.getpass(f\"{var}: \")\n",
    "\n",
    "_set_env(\"ANTHROPIC_API_KEY\")\n",
    "_set_env(\"LANGCHAIN_API_KEY\")\n",
    "os.environ[\"LANGCHAIN_TRACING_V2\"] = \"true\""
   ]
  },
  {
   "cell_type": "markdown",
   "metadata": {},
   "source": [
    "## Building Basic Chatbot\n",
    "\n",
    "First thing we do is define the `State`. In our case a `TypedDict` with a single key: `message`. It is annoted with the `add_messages` reducer function to append messages rather than overwrite them."
   ]
  },
  {
   "cell_type": "code",
   "execution_count": 23,
   "metadata": {},
   "outputs": [],
   "source": [
    "from typing import Annotated\n",
    "from typing_extensions import TypedDict\n",
    "\n",
    "from langgraph.graph import StateGraph, START, END\n",
    "from langgraph.graph.message import add_messages\n",
    "\n",
    "class State(TypedDict):\n",
    "    # Let's use add_messages to append messages to the list and not overwrite it\n",
    "    messages: Annotated[list, add_messages]\n",
    "\n",
    "graph_builder = StateGraph(State)"
   ]
  },
  {
   "cell_type": "code",
   "execution_count": 24,
   "metadata": {},
   "outputs": [
    {
     "data": {
      "text/plain": [
       "<langgraph.graph.state.StateGraph at 0x7f1190be0210>"
      ]
     },
     "execution_count": 24,
     "metadata": {},
     "output_type": "execute_result"
    }
   ],
   "source": [
    "from langchain_anthropic import ChatAnthropic\n",
    "\n",
    "os.environ['SSL_CERT_FILE'] = '/etc/ssl/certs/ca-certificates.crt' # needed for anthropic api\n",
    "os.environ['REQUESTS_CA_BUNDLE'] = \"/etc/ssl/certs/ca-certificates.crt\" # needed for langsmith api\n",
    "\n",
    "#os.environ['HTTPX_SSL_VERIFY'] = '/etc/ssl/certs/ca-certificates.crt' # not needed now\n",
    "\n",
    "llm = ChatAnthropic(model=\"claude-3-5-sonnet-20241022\",\n",
    "                    temperature=0)\n",
    "\n",
    "def chatbot(state: State):\n",
    "    return {\"messages\": [llm.invoke(state[\"messages\"])]}\n",
    "\n",
    "# 1st argument is the unique node and 2nd func or object to call\n",
    "graph_builder.add_node(\"chatbot\", chatbot)"
   ]
  },
  {
   "cell_type": "code",
   "execution_count": 5,
   "metadata": {},
   "outputs": [],
   "source": [
    "graph_builder.add_edge(START, \"chatbot\")\n",
    "graph_builder.add_edge(\"chatbot\", END)\n",
    "\n",
    "#Complie the graph\n",
    "graph = graph_builder.compile()"
   ]
  },
  {
   "cell_type": "markdown",
   "metadata": {},
   "source": [
    "To plot the diagram with Mermaid, you need to install a few dependencies. See the [LangChain LangGraph Visualization Guide](https://langchain-ai.github.io/langgraph/how-tos/visualization/).\n",
    "\n",
    "> **Note:** Firewalls or VPNs might restrict the API call. If you encounter issues, consider the following options:\n",
    "> \n",
    "> - **Testing only:** Use `verify=False` in your API call (not recommended due to security risks).\n",
    "> - Download the proper certificate from Mermaid and add it with:\n",
    ">   ```python\n",
    ">   os.environ['REQUESTS_CA_BUNDLE'] = \"/etc/ssl/certs/ca-certificates.crt\"\n",
    ">   ```\n",
    "> - Without API via Pyppeteer\n"
   ]
  },
  {
   "cell_type": "code",
   "execution_count": null,
   "metadata": {},
   "outputs": [
    {
     "name": "stderr",
     "output_type": "stream",
     "text": [
      "/home/dani/repos/langchain-academy/lc-academy-env/lib/python3.11/site-packages/urllib3/connectionpool.py:1099: InsecureRequestWarning: Unverified HTTPS request is being made to host 'mermaid.ink'. Adding certificate verification is strongly advised. See: https://urllib3.readthedocs.io/en/latest/advanced-usage.html#tls-warnings\n",
      "  warnings.warn(\n"
     ]
    },
    {
     "data": {
      "image/png": "[encoded data removed]",
      "text/plain": [
       "<IPython.core.display.Image object>"
      ]
     },
     "metadata": {},
     "output_type": "display_data"
    }
   ],
   "source": [
    "from IPython.display import Image, display\n",
    "import requests\n",
    "\n",
    "# Monkey-patch requests within the draw_mermaid_png method (if possible)\n",
    "original_request = requests.get\n",
    "\n",
    "def request_with_ssl_disabled(*args, **kwargs):\n",
    "    kwargs['verify'] = False  # Disable SSL verification for all requests\n",
    "    return original_request(*args, **kwargs)\n",
    "\n",
    "# Apply the patch\n",
    "requests.get = request_with_ssl_disabled\n",
    "\n",
    "display(Image(graph.get_graph().draw_mermaid_png()))\n"
   ]
  },
  {
   "cell_type": "code",
   "execution_count": null,
   "metadata": {},
   "outputs": [
    {
     "name": "stderr",
     "output_type": "stream",
     "text": [
      "/home/dani/repos/langchain-academy/lc-academy-env/lib/python3.11/site-packages/urllib3/connectionpool.py:1099: InsecureRequestWarning: Unverified HTTPS request is being made to host 'mermaid.ink'. Adding certificate verification is strongly advised. See: https://urllib3.readthedocs.io/en/latest/advanced-usage.html#tls-warnings\n",
      "  warnings.warn(\n"
     ]
    },
    {
     "data": {
      "image/png": "[encoded data removed]",
      "text/plain": [
       "<IPython.core.display.Image object>"
      ]
     },
     "metadata": {},
     "output_type": "display_data"
    }
   ],
   "source": [
    "# Alternative way\n",
    "try:\n",
    "    display(\n",
    "        Image(\n",
    "            graph.get_graph().draw_mermaid_png(\n",
    "                draw_method=MermaidDrawMethod.API,\n",
    "            )\n",
    "        )\n",
    "    )\n",
    "finally:\n",
    "    # Revert to the original requests.get to maintain code hygiene\n",
    "    requests.get = original_request\n"
   ]
  },
  {
   "cell_type": "markdown",
   "metadata": {},
   "source": [
    "Adding the cert better!"
   ]
  },
  {
   "cell_type": "code",
   "execution_count": 12,
   "metadata": {},
   "outputs": [
    {
     "data": {
      "image/png": "[encoded data removed]",
      "text/plain": [
       "<IPython.core.display.Image object>"
      ]
     },
     "metadata": {},
     "output_type": "display_data"
    }
   ],
   "source": [
    "\n",
    "display(Image(graph.get_graph().draw_mermaid_png()))"
   ]
  },
  {
   "cell_type": "markdown",
   "metadata": {},
   "source": [
    "Or use the Mermaid + Pyppeteer"
   ]
  },
  {
   "cell_type": "code",
   "execution_count": null,
   "metadata": {},
   "outputs": [],
   "source": [
    "\n",
    "%%capture --no-stderr\n",
    "%pip install --quiet pyppeteer\n",
    "%pip install --quiet nest_asyncio"
   ]
  },
  {
   "cell_type": "code",
   "execution_count": null,
   "metadata": {},
   "outputs": [
    {
     "data": {
      "image/png": "[encoded data removed]",
      "text/plain": [
       "<IPython.core.display.Image object>"
      ]
     },
     "metadata": {},
     "output_type": "display_data"
    }
   ],
   "source": [
    "display(Image(graph.get_graph().draw_mermaid_png()))"
   ]
  },
  {
   "cell_type": "markdown",
   "metadata": {},
   "source": [
    "Run chatbot!"
   ]
  },
  {
   "cell_type": "code",
   "execution_count": 8,
   "metadata": {},
   "outputs": [
    {
     "name": "stdout",
     "output_type": "stream",
     "text": [
      "Assistant: \"El Bicho\" es el apodo popular de Cristiano Ronaldo, uno de los futbolistas más famosos y exitosos de la historia. Nacido el 5 de febrero de 1985 en Funchal, Madeira (Portugal), Cristiano Ronaldo es conocido por:\n",
      "\n",
      "1. Su extraordinaria carrera en clubes como:\n",
      "- Manchester United\n",
      "- Real Madrid\n",
      "- Juventus\n",
      "- Al Nassr (actualmente)\n",
      "\n",
      "2. Logros destacados:\n",
      "- 5 UEFA Champions League\n",
      "- 5 Balones de Oro\n",
      "- Múltiples títulos de liga en diferentes países\n",
      "- Máximo goleador histórico del fútbol profesional\n",
      "\n",
      "3. Con la selección portuguesa:\n",
      "- Campeón de la Eurocopa 2016\n",
      "- Campeón de la UEFA Nations League 2019\n",
      "- Máximo goleador histórico en selecciones nacionales\n",
      "\n",
      "El apodo \"El Bicho\" surgió en España y hace referencia a su intensidad, determinación y capacidad física excepcional en el campo. Es considerado uno de los mejores futbolistas de todos los tiempos, junto con Lionel Messi, y ha dejado un legado importante en el deporte.\n",
      "Goodbye!\n"
     ]
    }
   ],
   "source": [
    "def stream_graph_updates(user_input: str):\n",
    "    for event in graph.stream({\"messages\": [(\"user\", user_input)]}):\n",
    "        for value in event.values():\n",
    "            print(\"Assistant:\", value[\"messages\"][-1].content)\n",
    "\n",
    "\n",
    "while True:\n",
    "    try:\n",
    "        user_input = input(\"User: \")\n",
    "        if user_input.lower() in [\"quit\", \"exit\", \"q\"]:\n",
    "            print(\"Goodbye!\")\n",
    "            break\n",
    "\n",
    "        stream_graph_updates(user_input)\n",
    "    except:\n",
    "        # fallback if input() is not available\n",
    "        user_input = \"What is the meaning of life?\"\n",
    "        print(\"User: \" + user_input)\n",
    "        stream_graph_updates(user_input)\n",
    "        break"
   ]
  },
  {
   "cell_type": "markdown",
   "metadata": {},
   "source": [
    "## Adding Tools"
   ]
  },
  {
   "cell_type": "code",
   "execution_count": 7,
   "metadata": {},
   "outputs": [],
   "source": [
    "%%capture --no-stderr\n",
    "%pip install -U tavily-python langchain_community"
   ]
  },
  {
   "cell_type": "code",
   "execution_count": 8,
   "metadata": {},
   "outputs": [],
   "source": [
    "langchain_api_key = os.getenv(\"LANGCHAIN_API_KEY\")"
   ]
  },
  {
   "cell_type": "code",
   "execution_count": 21,
   "metadata": {},
   "outputs": [
    {
     "data": {
      "text/plain": [
       "[{'url': 'https://www.wired.com/story/what-is-the-meaning-of-life/',\n",
       "  'content': 'On top of this, the actual elements that make Earth and life on Earth represent only a tiny fraction of a per cent of the composition of the Universe.\\n This article was originally published by WIRED UK\\nMatt Reynolds\\nEmily Mullin\\nMatt Simon\\nMatt Simon\\nMatt Simon\\nAnita Hofschneider\\nMatt Simon\\nMore From WIRED\\nReviews and Guides\\n© 2024 Condé Nast. Joel Khalili\\nParesh Dave\\nDell Cameron\\nJennifer M. Wood\\n“When I was a student starting out in astronomy, the recipe of the Universe was simple,” she says.\\xa0 Subscribe to WIRED\\nThanks to modern censuses of planets in our galactic neighbourhood, like Nasa\\'s Kepler mission, we know that planets are common and that small, Earth-sized planets are not the exception, but the rule.\\n \"Contemplating the sheer scale of the Universe and the tininess of our world, it is easy to dismiss humanity as insignificant in the ‘Big Picture’.'},\n",
       " {'url': 'https://1000wordphilosophy.com/2023/02/06/meaning-of-life/',\n",
       "  'content': 'Much of the contemporary discussion about the meaning of life is provoked by skepticism about traditional religious answers.[10] The phrase “the meaning of life” came into common usage only in the last two centuries, as advances in science, especially evolutionary theory, led many to doubt that life is the product of intelligent, supernatural design.[11] [2] For more detailed overviews of the meaning of life, see Metz (2021) and the entries on the meaning of life by Joshua Seachris and Wendell O’Brien in the Internet Encyclopedia of Philosophy.\\n The meaning of life may be to develop these capacities and put them to good use.[15]\\nOther naturalists are subjectivists about life’s meaning.[16] Existentialists, for example, argue that life has no meaning until we give it meaning by choosing to live for something that we find important.[17]\\nCritics (including nihilists and supernaturalists) argue that the naturalists are fooling themselves. The Meaning of Life: What’s the\\xa0Point?\\nAuthor: Matthew Pianalto\\nCategories: Ethics, Phenomenology and Existentialism, Philosophy of Religion\\nWord Count: 1000\\nEditors’ note: this essay and its companion essay, Meaning in Life: What Makes Our Lives Meaningful? philosophy.eku.edu/pianalto\\nShare this:\\nRelated\\nPost navigation\\n5 thoughts on “The Meaning of Life: What’s the\\xa0Point?”\\nComments are closed.\\n'}]"
      ]
     },
     "execution_count": 21,
     "metadata": {},
     "output_type": "execute_result"
    }
   ],
   "source": [
    "from langchain_community.tools.tavily_search import TavilySearchResults\n",
    "\n",
    "tool = TavilySearchResults(max_results=2)\n",
    "tools = [tool]\n",
    "tool.invoke(\"What is the meaning of life?\")"
   ]
  },
  {
   "cell_type": "code",
   "execution_count": 35,
   "metadata": {},
   "outputs": [
    {
     "data": {
      "text/plain": [
       "<langgraph.graph.state.StateGraph at 0x7f13016f1450>"
      ]
     },
     "execution_count": 35,
     "metadata": {},
     "output_type": "execute_result"
    }
   ],
   "source": [
    "class State(TypedDict):\n",
    "    messages: Annotated[list, add_messages]\n",
    "\n",
    "graph_builder = StateGraph(State)\n",
    "\n",
    "# Let's use Haiku here and bind the tools\n",
    "llm = ChatAnthropic(model=\"claude-3-5-haiku-latest\")\n",
    "llm_with_tools = llm.bind_tools(tools)\n",
    "\n",
    "def chatbot(state: State) -> State:\n",
    "    return {\"messages\": [llm_with_tools.invoke(state[\"messages\"])]}\n",
    "\n",
    "graph_builder.add_node(\"chatbot\", chatbot)"
   ]
  },
  {
   "cell_type": "markdown",
   "metadata": {},
   "source": [
    "We should define to run the tools if called. Let's implemente a ``BasicToolNode`` which would check the latest message and if it contains ``tool_calls``."
   ]
  },
  {
   "cell_type": "code",
   "execution_count": 36,
   "metadata": {},
   "outputs": [
    {
     "data": {
      "text/plain": [
       "<langgraph.graph.state.StateGraph at 0x7f13016f1450>"
      ]
     },
     "execution_count": 36,
     "metadata": {},
     "output_type": "execute_result"
    }
   ],
   "source": [
    "import json\n",
    "from langchain_core.messages import ToolMessage\n",
    "\n",
    "class BasicToolNode:\n",
    "    \"\"\"A node that runs the tools and returns the results.\"\"\"\n",
    "    \n",
    "\n",
    "    def __init__(self, tools: list) -> None:\n",
    "        self.tools_by_name = {tool.name: tool for tool in tools}\n",
    "\n",
    "    def __call__(self, inputs: dict):\n",
    "        if messages := inputs.get(\"messages\"):\n",
    "            message = messages[-1]\n",
    "        else:\n",
    "            raise ValueError(\"No messages found in the input.\")\n",
    "        outputs = []\n",
    "        for tool_call in message.tool_calls:\n",
    "            tool_result = self.tools_by_name[tool_call[\"name\"]].invoke(tool_call[\"args\"])\n",
    "            outputs.append(ToolMessage(\n",
    "                content=json.dumps(tool_result),\n",
    "                name=tool_call[\"name\"],\n",
    "                tool_call_id=tool_call[\"id\"])\n",
    "                )\n",
    "        return {\"messages\": outputs}\n",
    "\n",
    "tool_node = BasicToolNode(tools=[tool])\n",
    "graph_builder.add_node(\"tool_node\", tool_node)\n",
    "\n",
    "# The previous piece of code\n"
   ]
  },
  {
   "cell_type": "markdown",
   "metadata": {},
   "source": [
    "Let's add some conditional edges calling ``route_tools`` which would check for ``tool_calls``"
   ]
  },
  {
   "cell_type": "code",
   "execution_count": 37,
   "metadata": {},
   "outputs": [],
   "source": [
    "from typing import Literal\n",
    "\n",
    "def route_tools(state: State):\n",
    "    \"\"\"Use the conditional edge to route to the Tool Node\n",
    "      if the last message contains a tool call.\"\"\"\n",
    "\n",
    "    if isinstance(state, list):\n",
    "        ai_message = state[-1]\n",
    "    elif messages := state.get(\"messages\"):\n",
    "        ai_message = messages[-1]\n",
    "    else:\n",
    "        raise ValueError(\"No messages found in the input to tool_edge: {state}\")\n",
    "    if hasattr(ai_message, \"tool_calls\") and len(ai_message.tool_calls) > 0:\n",
    "        return \"tools\"\n",
    "    return END\n",
    "\n",
    "# Add a directed edge from the START node to the \"chatbot\" node\n",
    "graph_builder.add_edge(START, \"chatbot\")\n",
    "\n",
    "# Add conditional edges from the \"chatbot\" node using the route_tools function\n",
    "# If route_tools returns \"tools\", go to \"tool_node\". This renaming is optional\n",
    "# If route_tools returns END, go to END\n",
    "graph_builder.add_conditional_edges(\"chatbot\", route_tools,\n",
    "                                    {\"tools\": \"tool_node\", END: END})\n",
    "\n",
    "# Add a directed edge from the \"tools\" node back to the \"chatbot\" node\n",
    "graph_builder.add_edge(\"tool_node\", \"chatbot\")\n",
    "\n",
    "# Recompile the graph to include the new nodes and edges\n",
    "graph = graph_builder.compile()"
   ]
  },
  {
   "cell_type": "code",
   "execution_count": 38,
   "metadata": {},
   "outputs": [
    {
     "data": {
      "image/png": "[encoded data removed]",
      "text/plain": [
       "<IPython.core.display.Image object>"
      ]
     },
     "metadata": {},
     "output_type": "display_data"
    }
   ],
   "source": [
    "try:\n",
    "    display(Image(graph.get_graph().draw_mermaid_png()))\n",
    "except Exception:\n",
    "    pass"
   ]
  },
  {
   "cell_type": "code",
   "execution_count": 39,
   "metadata": {},
   "outputs": [
    {
     "name": "stdout",
     "output_type": "stream",
     "text": [
      "Assistant: ¡Hola! How can I help you today? I'm ready to assist you with any questions or tasks you might have. Would you like to search for information, get help with something, or just chat?\n",
      "Assistant: [{'text': 'Let me search for information about \"el bicho\" to provide you with an accurate answer.', 'type': 'text'}, {'id': 'toolu_01L6rZ5gAiVZHQPqQp4mBjya', 'input': {'query': 'El Bicho nickname Cristiano Ronaldo meaning'}, 'name': 'tavily_search_results_json', 'type': 'tool_use'}]\n",
      "Assistant: [{\"url\": \"https://www.latestly.com/sports/football/cristiano-ronaldo-nickname-why-portuguese-star-is-called-el-bicho-and-what-does-it-mean-in-english-3882116.html\", \"content\": \"Ronaldo's other nicknames: ' El bicho,' is not the only nickname Ronaldo has been named with; he has a few more. The most famous nickname which is widely used to call the greatest goalscorer, is 'Cr7.' This is like an acronym of Cristiano Ronaldo 7 (Jersey No. 7). Many fans and football pundits call him 'GOAT' which means 'Greatest of All Time.'\"}, {\"url\": \"https://www.thereport.co.za/el-bicho-the-nickname-that-defines-ronaldos-legacy/\", \"content\": \"Nicknames often encapsulate the essence of a player's style or personality on the pitch. For Cristiano Ronaldo, one of the most decorated footballers in history, his moniker \\\"El Bicho\\\" or \\\"The Bug\\\" might seem peculiar at first glance, but it's steeped in the lore of his playing days, particularly during his time with Real Madrid. The origin of \\\"El Bicho\\\" dates back to Ronaldo\"}]\n",
      "Assistant: \"El Bicho\" (which translates to \"The Bug\" in English) is a nickname for Cristiano Ronaldo, the famous Portuguese football player. This nickname was particularly popular during his time at Real Madrid and is used to describe his relentless playing style and unstoppable nature on the football field.\n",
      "\n",
      "The nickname reflects Ronaldo's characteristics as a player:\n",
      "1. Persistent and hard to stop (like a \"bug\")\n",
      "2. Always moving and creating problems for defenders\n",
      "3. Constantly scoring goals and being a threat on the field\n",
      "\n",
      "Ronaldo has several other well-known nicknames, including:\n",
      "- CR7 (based on his jersey number)\n",
      "- GOAT (Greatest of All Time)\n",
      "\n",
      "It's worth noting that Ronaldo is one of the most successful footballers in history, known for his incredible goal-scoring ability, athleticism, and competitive spirit - which is perfectly captured by the nickname \"El Bicho\".\n",
      "Goodbye!\n"
     ]
    }
   ],
   "source": [
    "def stream_graph_updates(user_input: str):\n",
    "    for event in graph.stream({\"messages\": [(\"user\", user_input)]}):\n",
    "        for value in event.values():\n",
    "            print(\"Assistant:\", value[\"messages\"][-1].content)\n",
    "\n",
    "while True:\n",
    "    try:\n",
    "        user_input = input(\"User:\")\n",
    "        if user_input.lower() in [\"quit\", \"exit\", \"q\"]:\n",
    "            print(\"Goodbye!\")\n",
    "            break\n",
    "\n",
    "        stream_graph_updates(user_input)\n",
    "    except:\n",
    "        # fallback if input() is not available\n",
    "        user_input = \"What is the meaning of life?\"\n",
    "        print(\"User: \" + user_input)\n",
    "        stream_graph_updates(user_input)\n",
    "        break"
   ]
  },
  {
   "cell_type": "markdown",
   "metadata": {},
   "source": [
    "> **Note:** As you can see, the model decided to call tools in the previous response to find relevant information. It's ultimately up to the model to determine whether or not to make a tool call, based on the context of the conversation and the user's request.\n",
    "\n",
    "Let's try something simpler to trigger a no-call response:"
   ]
  },
  {
   "cell_type": "code",
   "execution_count": 40,
   "metadata": {},
   "outputs": [
    {
     "name": "stdout",
     "output_type": "stream",
     "text": [
      "Assistant: ¡Hola! How are you doing today? I'm here to help you with any questions or tasks you might have. Is there something specific you'd like assistance with?\n",
      "Assistant: 2 + 2 = 4. This is a basic arithmetic operation that can be solved without needing to use any search tools. The sum of 2 and 2 is always 4.\n",
      "Assistant: 2 plus 2 equals 4. This is a basic arithmetic operation that doesn't require any search tool. It's a simple addition problem where you add the two numbers together, resulting in 4.\n",
      "Goodbye!\n"
     ]
    }
   ],
   "source": [
    "def stream_graph_updates(user_input: str):\n",
    "    for event in graph.stream({\"messages\": [(\"user\", user_input)]}):\n",
    "        for value in event.values():\n",
    "            print(\"Assistant:\", value[\"messages\"][-1].content)\n",
    "\n",
    "while True:\n",
    "    try:\n",
    "        user_input = input(\"User:\")\n",
    "        if user_input.lower() in [\"quit\", \"exit\", \"q\"]:\n",
    "            print(\"Goodbye!\")\n",
    "            break\n",
    "\n",
    "        stream_graph_updates(user_input)\n",
    "    except:\n",
    "        # fallback if input() is not available\n",
    "        user_input = \"What is the meaning of life?\"\n",
    "        print(\"User: \" + user_input)\n",
    "        stream_graph_updates(user_input)\n",
    "        break"
   ]
  },
  {
   "cell_type": "markdown",
   "metadata": {},
   "source": [
    "## Adding memory"
   ]
  },
  {
   "cell_type": "markdown",
   "metadata": {},
   "source": [
    "Checkpointing not only lets you to have chat memory, but also resume complex state at any time for error recovery, human-in-the-loop, etc."
   ]
  },
  {
   "cell_type": "code",
   "execution_count": 58,
   "metadata": {},
   "outputs": [],
   "source": [
    "from langgraph.checkpoint.memory import MemorySaver\n",
    "\n",
    "memory = MemorySaver()"
   ]
  },
  {
   "cell_type": "markdown",
   "metadata": {},
   "source": [
    "Here we're using an in-memory saver; for prod apps, better switch to ```SqliteSaver```"
   ]
  },
  {
   "cell_type": "code",
   "execution_count": 59,
   "metadata": {},
   "outputs": [],
   "source": [
    "from langgraph.prebuilt import ToolNode, tools_condition\n",
    "\n",
    "\n",
    "class State(TypedDict):\n",
    "    messages: Annotated[list, add_messages]\n",
    "\n",
    "graph_builder = StateGraph(State)\n",
    "\n",
    "tool = TavilySearchResults(max_results=2)\n",
    "tools = [tool]\n",
    "llm = ChatAnthropic(model=\"claude-3-5-haiku-latest\")\n",
    "llm_with_tools = llm.bind_tools(tools)\n",
    "\n",
    "def chatbot(state: State) -> State:\n",
    "    return {\"messages\": [llm_with_tools.invoke(state[\"messages\"])]}\n",
    "\n",
    "graph_builder.add_node(\"chatbot\", chatbot)\n",
    "\n",
    "tool_node = ToolNode(tools=[tool])\n",
    "graph_builder.add_node(\"tools\", tool_node)\n",
    "\n",
    "# Use pre-built tools_condition to route to the tools node.\n",
    "graph_builder.add_conditional_edges(\"chatbot\", tools_condition)\n",
    "\n",
    "# Any time a tool is called, we return to the chatbot to decide the next step\n",
    "graph_builder.add_edge(\"tools\", \"chatbot\")\n",
    "graph_builder.add_edge(START, \"chatbot\")\n",
    "\n",
    "# Compile with the memory checkpointer\n",
    "graph = graph_builder.compile(checkpointer=memory)"
   ]
  },
  {
   "cell_type": "code",
   "execution_count": 60,
   "metadata": {},
   "outputs": [
    {
     "data": {
      "image/png": "[encoded data removed]",
      "text/plain": [
       "<IPython.core.display.Image object>"
      ]
     },
     "metadata": {},
     "output_type": "display_data"
    }
   ],
   "source": [
    "display(Image(graph.get_graph().draw_mermaid_png()))"
   ]
  },
  {
   "cell_type": "code",
   "execution_count": 61,
   "metadata": {},
   "outputs": [
    {
     "name": "stdout",
     "output_type": "stream",
     "text": [
      "================================\u001b[1m Human Message \u001b[0m=================================\n",
      "\n",
      "Hey, my name is Dani and I'm building an AI startup\n",
      "==================================\u001b[1m Ai Message \u001b[0m==================================\n",
      "\n",
      "Hi Dani! That sounds exciting. Building an AI startup is a challenging but potentially very rewarding venture. Would you like to discuss your startup idea, the specific AI technology you're working on, or get some insights about the current AI startup landscape? I can help you by searching for recent information or trends in AI startups if you'd like.\n",
      "\n",
      "Is there anything specific you'd like to know or share about your AI startup?\n"
     ]
    }
   ],
   "source": [
    "config = {\"configurable\": {\"thread_id\": \"1\"}}\n",
    "\n",
    "user_input = \"Hey, my name is Dani and I'm building an AI startup\"\n",
    "\n",
    "events = graph.stream(\n",
    "    {\"messages\": [(\"user\", user_input)]},\n",
    "    config=config,\n",
    "    stream_mode=\"values\"\n",
    ")\n",
    "\n",
    "for event in events:\n",
    "    event[\"messages\"][-1].pretty_print()"
   ]
  },
  {
   "cell_type": "code",
   "execution_count": 62,
   "metadata": {},
   "outputs": [
    {
     "name": "stdout",
     "output_type": "stream",
     "text": [
      "================================\u001b[1m Human Message \u001b[0m=================================\n",
      "\n",
      "Remember who I am?\n",
      "==================================\u001b[1m Ai Message \u001b[0m==================================\n",
      "\n",
      "Yes, of course. Your name is Dani, and you mentioned you're building an AI startup. I apologize if my previous response seemed like I didn't remember that. Is there something specific you'd like to discuss about your AI startup or would you like to share more details about your venture?\n"
     ]
    }
   ],
   "source": [
    "user_input = \"Remember who I am?\"\n",
    "\n",
    "\n",
    "events = graph.stream(\n",
    "    {\"messages\": [(\"user\", user_input)]},\n",
    "    config,\n",
    "    stream_mode=\"values\"\n",
    ")\n",
    "\n",
    "for event in events:\n",
    "    event[\"messages\"][-1].pretty_print()"
   ]
  },
  {
   "cell_type": "code",
   "execution_count": 63,
   "metadata": {},
   "outputs": [
    {
     "data": {
      "text/plain": [
       "StateSnapshot(values={'messages': [HumanMessage(content=\"Hey, my name is Dani and I'm building an AI startup\", additional_kwargs={}, response_metadata={}, id='8ce50279-226a-4b4f-80d6-ae9eab27f43f'), AIMessage(content=\"Hi Dani! That sounds exciting. Building an AI startup is a challenging but potentially very rewarding venture. Would you like to discuss your startup idea, the specific AI technology you're working on, or get some insights about the current AI startup landscape? I can help you by searching for recent information or trends in AI startups if you'd like.\\n\\nIs there anything specific you'd like to know or share about your AI startup?\", additional_kwargs={}, response_metadata={'id': 'msg_01LRAs3CbYD9gSCpMrzKsUm8', 'model': 'claude-3-5-haiku-20241022', 'stop_reason': 'end_turn', 'stop_sequence': None, 'usage': {'input_tokens': 382, 'output_tokens': 92}}, id='run-25ca6fca-de3d-4c96-85e1-4d9d5cd51988-0', usage_metadata={'input_tokens': 382, 'output_tokens': 92, 'total_tokens': 474, 'input_token_details': {}}), HumanMessage(content='Remember who I am?', additional_kwargs={}, response_metadata={}, id='df64f198-41ea-4368-9ded-97587c8a0afd'), AIMessage(content=\"Yes, of course. Your name is Dani, and you mentioned you're building an AI startup. I apologize if my previous response seemed like I didn't remember that. Is there something specific you'd like to discuss about your AI startup or would you like to share more details about your venture?\", additional_kwargs={}, response_metadata={'id': 'msg_01GXJ2HsRHtxnnheKmXfQnUg', 'model': 'claude-3-5-haiku-20241022', 'stop_reason': 'end_turn', 'stop_sequence': None, 'usage': {'input_tokens': 482, 'output_tokens': 65}}, id='run-04aeb16e-c6fc-4861-beeb-b4d23bef2b99-0', usage_metadata={'input_tokens': 482, 'output_tokens': 65, 'total_tokens': 547, 'input_token_details': {}})]}, next=(), config={'configurable': {'thread_id': '1', 'checkpoint_ns': '', 'checkpoint_id': '1efa4406-3a7a-6fe7-8004-2070fb3011bc'}}, metadata={'source': 'loop', 'writes': {'chatbot': {'messages': [AIMessage(content=\"Yes, of course. Your name is Dani, and you mentioned you're building an AI startup. I apologize if my previous response seemed like I didn't remember that. Is there something specific you'd like to discuss about your AI startup or would you like to share more details about your venture?\", additional_kwargs={}, response_metadata={'id': 'msg_01GXJ2HsRHtxnnheKmXfQnUg', 'model': 'claude-3-5-haiku-20241022', 'stop_reason': 'end_turn', 'stop_sequence': None, 'usage': {'input_tokens': 482, 'output_tokens': 65}}, id='run-04aeb16e-c6fc-4861-beeb-b4d23bef2b99-0', usage_metadata={'input_tokens': 482, 'output_tokens': 65, 'total_tokens': 547, 'input_token_details': {}})]}}, 'thread_id': '1', 'step': 4, 'parents': {}}, created_at='2024-11-16T17:29:52.857062+00:00', parent_config={'configurable': {'thread_id': '1', 'checkpoint_ns': '', 'checkpoint_id': '1efa4406-2829-6441-8003-2c8c7dc204ce'}}, tasks=())"
      ]
     },
     "execution_count": 63,
     "metadata": {},
     "output_type": "execute_result"
    }
   ],
   "source": [
    "# Inspecting the memory\n",
    "snapshot = graph.get_state(config)\n",
    "snapshot"
   ]
  },
  {
   "cell_type": "code",
   "execution_count": null,
   "metadata": {},
   "outputs": [
    {
     "data": {
      "text/plain": [
       "()"
      ]
     },
     "execution_count": 64,
     "metadata": {},
     "output_type": "execute_result"
    }
   ],
   "source": [
    "snapshot.next #empty because we are at the end"
   ]
  },
  {
   "cell_type": "markdown",
   "metadata": {},
   "source": [
    "## Human-in-the-loop"
   ]
  },
  {
   "cell_type": "code",
   "execution_count": null,
   "metadata": {},
   "outputs": [
    {
     "data": {
      "text/plain": [
       "<langgraph.graph.state.StateGraph at 0x7f118857b910>"
      ]
     },
     "execution_count": 132,
     "metadata": {},
     "output_type": "execute_result"
    }
   ],
   "source": [
    "# Initialize memory\n",
    "memory = MemorySaver()\n",
    "\n",
    "# Define the State class\n",
    "class State(TypedDict):\n",
    "    messages: Annotated[list, add_messages]\n",
    "\n",
    "# Initialize the StateGraph\n",
    "graph_builder = StateGraph(State)\n",
    "\n",
    "# Initialize tools\n",
    "tool = TavilySearchResults(max_results=2)\n",
    "tools = [tool]\n",
    "\n",
    "# Initialize the language model with tools. Use sonnet here for cleaner output\n",
    "llm = ChatAnthropic(model=\"claude-3-5-sonnet-20240620\")\n",
    "llm_with_tools = llm.bind_tools(tools)\n",
    "\n",
    "# Define the chatbot function\n",
    "def chatbot(state: State) -> State:\n",
    "    return {\"messages\": [llm_with_tools.invoke(state[\"messages\"])]}\n",
    "\n",
    "# Add the chatbot node\n",
    "graph_builder.add_node(\"chatbot\", chatbot)\n",
    "\n",
    "# Initialize and add the tool node\n",
    "tool_node = ToolNode(tools=[tool])\n",
    "graph_builder.add_node(\"tools\", tool_node)\n",
    "\n",
    "# Use pre-built tools_condition to route to the tools node.\n",
    "graph_builder.add_conditional_edges(\"chatbot\", tools_condition)\n",
    "\n",
    "# Any time a tool is called, we return to the chatbot to decide the next step\n",
    "graph_builder.add_edge(\"tools\", \"chatbot\")\n",
    "\n",
    "# Add the START node\n",
    "graph_builder.add_edge(START, \"chatbot\")"
   ]
  },
  {
   "cell_type": "code",
   "execution_count": 133,
   "metadata": {},
   "outputs": [],
   "source": [
    "graph = graph_builder.compile(checkpointer=memory,\n",
    "                              interrupt_before=[\"tools\"],\n",
    ")"
   ]
  },
  {
   "cell_type": "code",
   "execution_count": 134,
   "metadata": {},
   "outputs": [
    {
     "name": "stdout",
     "output_type": "stream",
     "text": [
      "================================\u001b[1m Human Message \u001b[0m=================================\n",
      "\n",
      "I'm researching about dinausors. Can you summarize key points for me?\n",
      "==================================\u001b[1m Ai Message \u001b[0m==================================\n",
      "\n",
      "[{'text': \"Certainly! I'd be happy to help you research dinosaurs. To provide you with the most up-to-date and comprehensive information, I'll use a search tool to gather some key points about dinosaurs for you. Let me do that now.\", 'type': 'text'}, {'id': 'toolu_014ghHq85XHVGKTetriLt7V4', 'input': {'query': 'key points about dinosaurs'}, 'name': 'tavily_search_results_json', 'type': 'tool_use'}]\n",
      "Tool Calls:\n",
      "  tavily_search_results_json (toolu_014ghHq85XHVGKTetriLt7V4)\n",
      " Call ID: toolu_014ghHq85XHVGKTetriLt7V4\n",
      "  Args:\n",
      "    query: key points about dinosaurs\n"
     ]
    }
   ],
   "source": [
    "user_input = \"I'm researching about dinausors. Can you summarize key points for me?\"\n",
    "config = {\"configurable\": {\"thread_id\": \"1\"}}\n",
    "\n",
    "events = graph.stream(\n",
    "    {\"messages\": [(\"user\", user_input)]},\n",
    "    config,\n",
    "    stream_mode=\"values\"\n",
    ")\n",
    "\n",
    "for event in events:\n",
    "    if \"messages\" in event:\n",
    "        event[\"messages\"][-1].pretty_print()"
   ]
  },
  {
   "cell_type": "code",
   "execution_count": 135,
   "metadata": {},
   "outputs": [
    {
     "data": {
      "text/plain": [
       "('tools',)"
      ]
     },
     "execution_count": 135,
     "metadata": {},
     "output_type": "execute_result"
    }
   ],
   "source": [
    "snapshot = graph.get_state(config)\n",
    "snapshot.next"
   ]
  },
  {
   "cell_type": "markdown",
   "metadata": {},
   "source": [
    "Let's inspect the tool invocation:"
   ]
  },
  {
   "cell_type": "code",
   "execution_count": 136,
   "metadata": {},
   "outputs": [
    {
     "data": {
      "text/plain": [
       "[{'name': 'tavily_search_results_json',\n",
       "  'args': {'query': 'key points about dinosaurs'},\n",
       "  'id': 'toolu_014ghHq85XHVGKTetriLt7V4',\n",
       "  'type': 'tool_call'}]"
      ]
     },
     "execution_count": 136,
     "metadata": {},
     "output_type": "execute_result"
    }
   ],
   "source": [
    "existing_message = snapshot.values[\"messages\"][-1]\n",
    "existing_message.tool_calls"
   ]
  },
  {
   "cell_type": "markdown",
   "metadata": {},
   "source": [
    "Pretty normal query. Let's proceed passing ``None`` to continue the graph:"
   ]
  },
  {
   "cell_type": "code",
   "execution_count": 137,
   "metadata": {},
   "outputs": [
    {
     "name": "stdout",
     "output_type": "stream",
     "text": [
      "==================================\u001b[1m Ai Message \u001b[0m==================================\n",
      "\n",
      "[{'text': \"Certainly! I'd be happy to help you research dinosaurs. To provide you with the most up-to-date and comprehensive information, I'll use a search tool to gather some key points about dinosaurs for you. Let me do that now.\", 'type': 'text'}, {'id': 'toolu_014ghHq85XHVGKTetriLt7V4', 'input': {'query': 'key points about dinosaurs'}, 'name': 'tavily_search_results_json', 'type': 'tool_use'}]\n",
      "Tool Calls:\n",
      "  tavily_search_results_json (toolu_014ghHq85XHVGKTetriLt7V4)\n",
      " Call ID: toolu_014ghHq85XHVGKTetriLt7V4\n",
      "  Args:\n",
      "    query: key points about dinosaurs\n",
      "=================================\u001b[1m Tool Message \u001b[0m=================================\n",
      "Name: tavily_search_results_json\n",
      "\n",
      "[{\"url\": \"https://facts.net/earth-and-life-science/50-facts-about-dinosaurs/\", \"content\": \"50 Facts About Dinosaurs - Facts.net History Facts Reviews Facts Science Facts Everything Else Facts History Facts Reviews Facts Science Facts Everything Else Facts 50 Facts About Dinosaurs Join us as we delve into 50 fascinating facts about these magnificent creatures, shedding light on the mysteries of the dinosaur world. Dinosaurs, fascinating creatures that roamed the Earth millions of years ago, came in all shapes and sizes, from tiny to gigantic, and left behind a legacy that continues to captivate our imagination. The study of dinosaurs, their behavior, and their fossils provides incredible insights into Earth's history and the processes that shape life on our planet. 37 Facts About Tanis Dinosaur Fossils 35 Facts About Baby Dinosaur Embryos More Facts\"}, {\"url\": \"https://www.britannica.com/animal/dinosaur\", \"content\": \"The first description of dinosaurs as a separate group of life forms (known as “Dinosauria”) was published in 1842 by British paleontologist Richard Owen, who based his findings on fossil fragments of the Cladeiodon and the Cetiosaurus.\\ndinosaur,\\n(clade Dinosauria),\\nthe common name given to a group of reptiles, often very large, that first appeared roughly 245 million years ago (near the beginning of the Middle Triassic Epoch) and thrived worldwide for nearly 180 million years. Owen recognized that these reptiles were far different from other known reptiles of the present and the past for three reasons: they were large yet obviously terrestrial, unlike the aquatic ichthyosaurs and plesiosaurs that were already known; they had five vertebrae in their hips, whereas most known reptiles have only two; and, rather than holding their limbs sprawled out to the side in the manner of lizards, dinosaurs held their limbs under the body in columnar fashion, like elephants and other large mammals.\\n In 1676 Robert Plot of the University of Oxford included, in a work of natural history, a drawing of what was apparently the knee-end of the thighbone of a dinosaur, which he thought might have come from an elephant taken to Britain in Roman times. In a report to the British Association for the Advancement of Science in 1841, he described these animals, and the word Dinosauria was first published in the association’s proceedings in 1842. The English anatomist Richard Owen proposed the formal term Dinosauria in 1842 to include three giant extinct animals (Megalosaurus, Iguanodon, and Hylaeosaurus) represented by large fossilized bones that had been unearthed at several locations in southern England during the early part of the 19th century.\"}]\n",
      "==================================\u001b[1m Ai Message \u001b[0m==================================\n",
      "\n",
      "Thank you for your patience. I've gathered some key points about dinosaurs for you. Here's a summary of the most important information:\n",
      "\n",
      "1. Time Period: Dinosaurs first appeared approximately 245 million years ago, during the Middle Triassic Epoch, and thrived for nearly 180 million years.\n",
      "\n",
      "2. Diversity: Dinosaurs came in a wide variety of shapes and sizes, ranging from very small to extremely large.\n",
      "\n",
      "3. Classification: The term \"Dinosauria\" was first published in 1842 by British paleontologist Richard Owen. He recognized dinosaurs as a distinct group of reptiles, separate from other known reptiles of the past and present.\n",
      "\n",
      "4. Unique Characteristics: Owen identified three main features that set dinosaurs apart:\n",
      "   a. They were large yet terrestrial (land-dwelling), unlike aquatic reptiles like ichthyosaurs and plesiosaurs.\n",
      "   b. They had five vertebrae in their hips, while most known reptiles have only two.\n",
      "   c. Their limbs were held under the body in a columnar fashion, similar to large mammals, rather than sprawled out to the side like lizards.\n",
      "\n",
      "5. Historical Discovery: The study of dinosaurs began long before they were recognized as a distinct group. In 1676, Robert Plot of the University of Oxford included a drawing of what was likely a dinosaur bone in his work of natural history.\n",
      "\n",
      "6. Fossil Record: The first formal descriptions of dinosaurs were based on fossil fragments found in southern England during the early 19th century. The genera Megalosaurus, Iguanodon, and Hylaeosaurus were among the first to be described.\n",
      "\n",
      "7. Scientific Importance: The study of dinosaurs and their fossils provides valuable insights into Earth's history and the processes that shape life on our planet.\n",
      "\n",
      "8. Paleontology: The field of dinosaur study has evolved significantly since the 19th century, with new discoveries and technologies continually expanding our understanding of these ancient creatures.\n",
      "\n",
      "9. Popular Interest: Dinosaurs continue to captivate public imagination, inspiring scientific research, media representations, and educational programs.\n",
      "\n",
      "10. Extinction: While dinosaurs dominated terrestrial ecosystems for millions of years, they eventually went extinct (except for the lineage that led to modern birds), which marks a significant event in Earth's biological history.\n",
      "\n",
      "These key points provide a foundation for understanding dinosaurs, their place in Earth's history, and their significance in scientific study. If you'd like to explore any of these aspects in more depth or have any specific questions about dinosaurs, please feel free to ask!\n"
     ]
    }
   ],
   "source": [
    "events = graph.stream(None, config, stream_mode=\"values\")\n",
    "for event in events:\n",
    "    if \"messages\" in event:\n",
    "        event[\"messages\"][-1].pretty_print()"
   ]
  }
 ],
 "metadata": {
  "kernelspec": {
   "display_name": "Python (lc-academy-env)",
   "language": "python",
   "name": "lc-academy-env"
  },
  "language_info": {
   "codemirror_mode": {
    "name": "ipython",
    "version": 3
   },
   "file_extension": ".py",
   "mimetype": "text/x-python",
   "name": "python",
   "nbconvert_exporter": "python",
   "pygments_lexer": "ipython3",
   "version": "3.11.0"
  }
 },
 "nbformat": 4,
 "nbformat_minor": 2
}
