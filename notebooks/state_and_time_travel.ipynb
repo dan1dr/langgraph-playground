{
 "cells": [
  {
   "cell_type": "code",
   "execution_count": 3,
   "metadata": {},
   "outputs": [],
   "source": [
    "import getpass\n",
    "import os\n",
    "from dotenv import load_dotenv\n",
    "\n",
    "# Load environment variables from the .env file\n",
    "load_dotenv()\n",
    "\n",
    "# Access the keys to not input them every time\n",
    "anthropic_api_key = os.getenv(\"ANTHROPIC_API_KEY\")\n",
    "langchain_api_key = os.getenv(\"LANGCHAIN_API_KEY\")\n",
    "\n",
    "def _set_env(var: str):\n",
    "    if not os.environ.get(var):\n",
    "        os.environ[var] = getpass.getpass(f\"{var}: \")\n",
    "\n",
    "_set_env(\"ANTHROPIC_API_KEY\")\n",
    "_set_env(\"LANGCHAIN_API_KEY\")\n",
    "os.environ[\"LANGCHAIN_TRACING_V2\"] = \"true\"\n",
    "os.environ['SSL_CERT_FILE'] = '/etc/ssl/certs/ca-certificates.crt' # needed for anthropic api\n",
    "os.environ['REQUESTS_CA_BUNDLE'] = \"/etc/ssl/certs/ca-certificates.crt\" # needed for langsmith api\n",
    "\n",
    "from typing_extensions import TypedDict, Annotated\n",
    "from langgraph.graph import StateGraph, START, END\n",
    "from langgraph.graph.message import add_messages\n",
    "from langchain_anthropic import ChatAnthropic\n",
    "\n",
    "from typing import Annotated, Literal\n",
    "\n",
    "from langchain_community.tools.tavily_search import TavilySearchResults\n",
    "from langchain_core.messages import AIMessage, ToolMessage\n",
    "\n",
    "# NOTE: you must use langchain-core >= 0.3 with Pydantic v2\n",
    "from pydantic import BaseModel\n",
    "\n",
    "from langgraph.checkpoint.memory import MemorySaver\n",
    "from langgraph.prebuilt import ToolNode, tools_condition\n",
    "from IPython.display import Image, display"
   ]
  },
  {
   "cell_type": "markdown",
   "metadata": {},
   "source": [
    "## Customizing State"
   ]
  },
  {
   "cell_type": "markdown",
   "metadata": {},
   "source": [
    "Adding the choice to rely on a human. For that, we will create a \"human\" node which will be only executed if LLM invokes a \"human\" tool. We will flag it as ``ask_human``.\n",
    "\n",
    "Let's define a schema to request assistance and the chatbot node."
   ]
  },
  {
   "cell_type": "code",
   "execution_count": 59,
   "metadata": {},
   "outputs": [],
   "source": [
    "class State(TypedDict):\n",
    "    messages: Annotated[list, add_messages]\n",
    "    ask_human: bool # whether to ask the human for input\n",
    "\n",
    "class RequestAssistance(BaseModel):\n",
    "    \"\"\"Request assistance from an expert. Do this if you're stuck on unable to proceed.\n",
    "    For this, pass the urser's request to the expert.\n",
    "    \"\"\"\n",
    "\n",
    "    request: str\n",
    "\n",
    "tool = TavilySearchResults(max_results=2)\n",
    "tools = [tool]\n",
    "llm = ChatAnthropic(model=\"claude-3-5-sonnet-20241022\")\n",
    "# Bind it to tools and RequestAssistance (also could be a json schema)\n",
    "llm_with_tools = llm.bind_tools(tools + [RequestAssistance])\n",
    "\n",
    "def chatbot(state: State) -> State:\n",
    "    response = llm_with_tools.invoke(state[\"messages\"])\n",
    "    ask_human = False\n",
    "    if (response.tool_calls and response.tool_calls[0][\"name\"] == RequestAssistance.__name__):\n",
    "        ask_human = True\n",
    "    return {\"messages\": [response], \"ask_human\": ask_human}"
   ]
  },
  {
   "cell_type": "code",
   "execution_count": 60,
   "metadata": {},
   "outputs": [
    {
     "data": {
      "text/plain": [
       "<langgraph.graph.state.StateGraph at 0x7f083bb59e90>"
      ]
     },
     "execution_count": 60,
     "metadata": {},
     "output_type": "execute_result"
    }
   ],
   "source": [
    "graph_builder = StateGraph(State)\n",
    "\n",
    "graph_builder.add_node(\"chatbot\", chatbot)\n",
    "graph_builder.add_node(\"tools\", ToolNode(tools=[tool]))"
   ]
  },
  {
   "cell_type": "markdown",
   "metadata": {},
   "source": [
    "Create the \"human\" node, acting as a placeholder that will trigger an interrupt. If human does not manually update state during the interruption, it will insert a tool message that input was requested but didn't respond (so unsetting ``ask_human`` flag to not revisit him again until further request)."
   ]
  },
  {
   "cell_type": "code",
   "execution_count": 61,
   "metadata": {},
   "outputs": [
    {
     "data": {
      "text/plain": [
       "<langgraph.graph.state.StateGraph at 0x7f083bb59e90>"
      ]
     },
     "execution_count": 61,
     "metadata": {},
     "output_type": "execute_result"
    }
   ],
   "source": [
    "def create_response(response: str, ai_message: AIMessage):\n",
    "    \"\"\"\n",
    "    Create a response message with the given content and\n",
    "    the tool_call_id of the given AIMessage.\n",
    "    \"\"\"\n",
    "    return ToolMessage(content= response,\n",
    "                       tool_call_id = ai_message.tool_calls[0][\"id\"])\n",
    "\n",
    "def human_node(state: State) -> State:\n",
    "    new_messages = []\n",
    "    if not isinstance(state[\"messages\"][-1], ToolMessage): # when user didn't update the tool\n",
    "        new_messages.append(\n",
    "            create_response(\"No response from user.\",\n",
    "                            state[\"messages\"][-1])\n",
    "        )\n",
    "\n",
    "    return {\n",
    "        \"messages\": new_messages,\n",
    "        \"ask_human\": False\n",
    "        }\n",
    "\n",
    "graph_builder.add_node(\"human\", human_node)"
   ]
  },
  {
   "cell_type": "markdown",
   "metadata": {},
   "source": [
    "Define ``select_next_node`` to route to ``human`` node if the flag is set. Otherwise, let the tools condition to choose next."
   ]
  },
  {
   "cell_type": "code",
   "execution_count": 62,
   "metadata": {},
   "outputs": [
    {
     "data": {
      "text/plain": [
       "<langgraph.graph.state.StateGraph at 0x7f083bb59e90>"
      ]
     },
     "execution_count": 62,
     "metadata": {},
     "output_type": "execute_result"
    }
   ],
   "source": [
    "def select_next_node(state: State):\n",
    "    \"\"\"Select the next node based on the state.\"\"\"\n",
    "\n",
    "    if state[\"ask_human\"]:\n",
    "        return \"human\"\n",
    "    return tools_condition(state)\n",
    "\n",
    "\n",
    "# This part \n",
    "graph_builder.add_conditional_edges(\"chatbot\", select_next_node,\n",
    "                                    {\"human\": \"human\", \"tools\": \"tools\", END: END}) "
   ]
  },
  {
   "cell_type": "code",
   "execution_count": 63,
   "metadata": {},
   "outputs": [],
   "source": [
    "graph_builder.add_edge(\"tools\", \"chatbot\")\n",
    "graph_builder.add_edge(\"human\", \"chatbot\")\n",
    "graph_builder.add_edge(START, \"chatbot\")\n",
    "\n",
    "memory = MemorySaver()\n",
    "graph = graph_builder.compile(\n",
    "    checkpointer=memory,\n",
    "    interrupt_before=[\"human\"] # interrupt before the human node\n",
    ")"
   ]
  },
  {
   "cell_type": "code",
   "execution_count": 64,
   "metadata": {},
   "outputs": [
    {
     "data": {
      "image/png": "[encoded data removed]",
      "text/plain": [
       "<IPython.core.display.Image object>"
      ]
     },
     "metadata": {},
     "output_type": "display_data"
    }
   ],
   "source": [
    "display(Image(graph.get_graph().draw_mermaid_png()))"
   ]
  },
  {
   "cell_type": "markdown",
   "metadata": {},
   "source": [
    "The possible paths for the chatbot are:\n",
    "1. `chatbot` -> `human`\n",
    "2. `chatbot` -> `tools`\n",
    "3. `chatbot` -> `end` (respond)"
   ]
  },
  {
   "cell_type": "code",
   "execution_count": 65,
   "metadata": {},
   "outputs": [
    {
     "name": "stdout",
     "output_type": "stream",
     "text": [
      "================================\u001b[1m Human Message \u001b[0m=================================\n",
      "\n",
      "I need some expert guidance for building this AI agent. Could you request assistance for me?\n",
      "==================================\u001b[1m Ai Message \u001b[0m==================================\n",
      "\n",
      "[{'text': \"I'll help you request expert assistance for building an AI agent.\", 'type': 'text'}, {'id': 'toolu_018oWotrwPEUA8DrX4ucJ2SL', 'input': {'request': 'I need expert guidance for building an AI agent. Please provide assistance with the development process.'}, 'name': 'RequestAssistance', 'type': 'tool_use'}]\n",
      "Tool Calls:\n",
      "  RequestAssistance (toolu_018oWotrwPEUA8DrX4ucJ2SL)\n",
      " Call ID: toolu_018oWotrwPEUA8DrX4ucJ2SL\n",
      "  Args:\n",
      "    request: I need expert guidance for building an AI agent. Please provide assistance with the development process.\n"
     ]
    }
   ],
   "source": [
    "user_input = \"I need some expert guidance for building this AI agent. Could you request assistance for me?\"\n",
    "config = {\"configurable\": {\"thread_id\": \"1\"}}\n",
    "\n",
    "events = graph.stream(\n",
    "    {\"messages\": [(\"user\", user_input)]},\n",
    "    config,\n",
    "    stream_mode=\"values\"\n",
    ")\n",
    "\n",
    "for event in events:\n",
    "    if \"messages\" in event:\n",
    "        event[\"messages\"][-1].pretty_print()"
   ]
  },
  {
   "cell_type": "markdown",
   "metadata": {},
   "source": [
    "Note that LLM has invoked ``RequestAssistance`` tool, so it has been interrupted. The next state should be the human:"
   ]
  },
  {
   "cell_type": "code",
   "execution_count": 66,
   "metadata": {},
   "outputs": [
    {
     "data": {
      "text/plain": [
       "('human',)"
      ]
     },
     "execution_count": 66,
     "metadata": {},
     "output_type": "execute_result"
    }
   ],
   "source": [
    "snapshot = graph.get_state(config)\n",
    "snapshot.next"
   ]
  },
  {
   "cell_type": "code",
   "execution_count": 67,
   "metadata": {},
   "outputs": [
    {
     "data": {
      "text/plain": [
       "{'source': 'loop',\n",
       " 'writes': {'chatbot': {'messages': [AIMessage(content=[{'text': \"I'll help you request expert assistance for building an AI agent.\", 'type': 'text'}, {'id': 'toolu_018oWotrwPEUA8DrX4ucJ2SL', 'input': {'request': 'I need expert guidance for building an AI agent. Please provide assistance with the development process.'}, 'name': 'RequestAssistance', 'type': 'tool_use'}], additional_kwargs={}, response_metadata={'id': 'msg_01UfahA5uvYskbgXCRkuBjF7', 'model': 'claude-3-5-sonnet-20241022', 'stop_reason': 'tool_use', 'stop_sequence': None, 'usage': {'input_tokens': 513, 'output_tokens': 84}}, id='run-1087e069-299e-4ff7-8a91-3bfc82cfc0de-0', tool_calls=[{'name': 'RequestAssistance', 'args': {'request': 'I need expert guidance for building an AI agent. Please provide assistance with the development process.'}, 'id': 'toolu_018oWotrwPEUA8DrX4ucJ2SL', 'type': 'tool_call'}], usage_metadata={'input_tokens': 513, 'output_tokens': 84, 'total_tokens': 597, 'input_token_details': {}})],\n",
       "   'ask_human': True}},\n",
       " 'thread_id': '1',\n",
       " 'step': 1,\n",
       " 'parents': {}}"
      ]
     },
     "execution_count": 67,
     "metadata": {},
     "output_type": "execute_result"
    }
   ],
   "source": [
    "snapshot.metadata"
   ]
  },
  {
   "cell_type": "markdown",
   "metadata": {},
   "source": [
    "Create the tool_message with our response and call the update_state to manually modify it."
   ]
  },
  {
   "cell_type": "code",
   "execution_count": 68,
   "metadata": {},
   "outputs": [
    {
     "data": {
      "text/plain": [
       "AIMessage(content=[{'text': \"I'll help you request expert assistance for building an AI agent.\", 'type': 'text'}, {'id': 'toolu_018oWotrwPEUA8DrX4ucJ2SL', 'input': {'request': 'I need expert guidance for building an AI agent. Please provide assistance with the development process.'}, 'name': 'RequestAssistance', 'type': 'tool_use'}], additional_kwargs={}, response_metadata={'id': 'msg_01UfahA5uvYskbgXCRkuBjF7', 'model': 'claude-3-5-sonnet-20241022', 'stop_reason': 'tool_use', 'stop_sequence': None, 'usage': {'input_tokens': 513, 'output_tokens': 84}}, id='run-1087e069-299e-4ff7-8a91-3bfc82cfc0de-0', tool_calls=[{'name': 'RequestAssistance', 'args': {'request': 'I need expert guidance for building an AI agent. Please provide assistance with the development process.'}, 'id': 'toolu_018oWotrwPEUA8DrX4ucJ2SL', 'type': 'tool_call'}], usage_metadata={'input_tokens': 513, 'output_tokens': 84, 'total_tokens': 597, 'input_token_details': {}})"
      ]
     },
     "execution_count": 68,
     "metadata": {},
     "output_type": "execute_result"
    }
   ],
   "source": [
    "ai_message = snapshot.values[\"messages\"][-1]\n",
    "ai_message"
   ]
  },
  {
   "cell_type": "code",
   "execution_count": 69,
   "metadata": {},
   "outputs": [
    {
     "data": {
      "text/plain": [
       "{'configurable': {'thread_id': '1',\n",
       "  'checkpoint_ns': '',\n",
       "  'checkpoint_id': '1efa9b3c-69c8-63d4-8002-552317176df6'}}"
      ]
     },
     "execution_count": 69,
     "metadata": {},
     "output_type": "execute_result"
    }
   ],
   "source": [
    "ai_message = snapshot.values[\"messages\"][-1]\n",
    "human_response = (\"Hey friend! My recommendation is to use LangGraph framework to build your AI agent.\"\n",
    "                \"It's a powerful tool that can help you build complex conversational agents.\"\n",
    ")\n",
    "\n",
    "tool_message = create_response(human_response, ai_message)\n",
    "graph.update_state(config, {\"messages\": [tool_message]})"
   ]
  },
  {
   "cell_type": "code",
   "execution_count": 70,
   "metadata": {},
   "outputs": [
    {
     "data": {
      "text/plain": [
       "[HumanMessage(content='I need some expert guidance for building this AI agent. Could you request assistance for me?', additional_kwargs={}, response_metadata={}, id='450ed4dd-ff60-4011-9749-08ed4b8e9fee'),\n",
       " AIMessage(content=[{'text': \"I'll help you request expert assistance for building an AI agent.\", 'type': 'text'}, {'id': 'toolu_018oWotrwPEUA8DrX4ucJ2SL', 'input': {'request': 'I need expert guidance for building an AI agent. Please provide assistance with the development process.'}, 'name': 'RequestAssistance', 'type': 'tool_use'}], additional_kwargs={}, response_metadata={'id': 'msg_01UfahA5uvYskbgXCRkuBjF7', 'model': 'claude-3-5-sonnet-20241022', 'stop_reason': 'tool_use', 'stop_sequence': None, 'usage': {'input_tokens': 513, 'output_tokens': 84}}, id='run-1087e069-299e-4ff7-8a91-3bfc82cfc0de-0', tool_calls=[{'name': 'RequestAssistance', 'args': {'request': 'I need expert guidance for building an AI agent. Please provide assistance with the development process.'}, 'id': 'toolu_018oWotrwPEUA8DrX4ucJ2SL', 'type': 'tool_call'}], usage_metadata={'input_tokens': 513, 'output_tokens': 84, 'total_tokens': 597, 'input_token_details': {}}),\n",
       " ToolMessage(content=\"Hey friend! My recommendation is to use LangGraph framework to build your AI agent.It's a powerful tool that can help you build complex conversational agents.\", id='c8865403-082f-4dcc-9494-61c71790b60f', tool_call_id='toolu_018oWotrwPEUA8DrX4ucJ2SL')]"
      ]
     },
     "execution_count": 70,
     "metadata": {},
     "output_type": "execute_result"
    }
   ],
   "source": [
    "graph.get_state(config).values[\"messages\"]"
   ]
  },
  {
   "cell_type": "markdown",
   "metadata": {},
   "source": [
    "Resume graph by invoking None"
   ]
  },
  {
   "cell_type": "code",
   "execution_count": 71,
   "metadata": {},
   "outputs": [
    {
     "name": "stdout",
     "output_type": "stream",
     "text": [
      "=================================\u001b[1m Tool Message \u001b[0m=================================\n",
      "\n",
      "Hey friend! My recommendation is to use LangGraph framework to build your AI agent.It's a powerful tool that can help you build complex conversational agents.\n",
      "=================================\u001b[1m Tool Message \u001b[0m=================================\n",
      "\n",
      "Hey friend! My recommendation is to use LangGraph framework to build your AI agent.It's a powerful tool that can help you build complex conversational agents.\n",
      "==================================\u001b[1m Ai Message \u001b[0m==================================\n",
      "\n",
      "Based on the expert's response, they recommend using the LangGraph framework for building your AI agent. This is a specialized tool designed for creating complex conversational agents. Would you like to know more specific details about how to proceed with LangGraph, or do you have any particular aspects of AI agent development you'd like to focus on?\n"
     ]
    }
   ],
   "source": [
    "events = graph.stream(None, config, stream_mode=\"values\")\n",
    "for event in events:\n",
    "    if \"messages\" in event:\n",
    "        event[\"messages\"][-1].pretty_print()"
   ]
  },
  {
   "cell_type": "markdown",
   "metadata": {},
   "source": [
    "## Time travel"
   ]
  },
  {
   "cell_type": "code",
   "execution_count": 4,
   "metadata": {},
   "outputs": [],
   "source": [
    "from typing import Annotated, Literal\n",
    "\n",
    "from langchain_anthropic import ChatAnthropic\n",
    "from langchain_community.tools.tavily_search import TavilySearchResults\n",
    "from langchain_core.messages import AIMessage, ToolMessage\n",
    "\n",
    "# NOTE: you must use langchain-core >= 0.3 with Pydantic v2\n",
    "from pydantic import BaseModel\n",
    "from typing_extensions import TypedDict\n",
    "\n",
    "from langgraph.checkpoint.memory import MemorySaver\n",
    "from langgraph.graph import StateGraph, START\n",
    "from langgraph.graph.message import add_messages\n",
    "from langgraph.prebuilt import ToolNode, tools_condition\n",
    "\n",
    "\n",
    "class State(TypedDict):\n",
    "    messages: Annotated[list, add_messages]\n",
    "    # This flag is new\n",
    "    ask_human: bool\n",
    "\n",
    "\n",
    "class RequestAssistance(BaseModel):\n",
    "    \"\"\"Escalate the conversation to an expert. Use this if you are unable to assist directly or if the user requires support beyond your permissions.\n",
    "\n",
    "    To use this function, relay the user's 'request' so the expert can provide the right guidance.\n",
    "    \"\"\"\n",
    "\n",
    "    request: str\n",
    "\n",
    "\n",
    "tool = TavilySearchResults(max_results=2)\n",
    "tools = [tool]\n",
    "llm = ChatAnthropic(model=\"claude-3-5-sonnet-latest\")\n",
    "# We can bind the llm to a tool definition, a pydantic model, or a json schema\n",
    "llm_with_tools = llm.bind_tools(tools + [RequestAssistance])\n",
    "\n",
    "\n",
    "def chatbot(state: State):\n",
    "    response = llm_with_tools.invoke(state[\"messages\"])\n",
    "    ask_human = False\n",
    "    if (\n",
    "        response.tool_calls\n",
    "        and response.tool_calls[0][\"name\"] == RequestAssistance.__name__\n",
    "    ):\n",
    "        ask_human = True\n",
    "    return {\"messages\": [response], \"ask_human\": ask_human}\n",
    "\n",
    "\n",
    "graph_builder = StateGraph(State)\n",
    "\n",
    "graph_builder.add_node(\"chatbot\", chatbot)\n",
    "graph_builder.add_node(\"tools\", ToolNode(tools=[tool]))\n",
    "\n",
    "\n",
    "def create_response(response: str, ai_message: AIMessage):\n",
    "    return ToolMessage(\n",
    "        content=response,\n",
    "        tool_call_id=ai_message.tool_calls[0][\"id\"],\n",
    "    )\n",
    "\n",
    "\n",
    "def human_node(state: State):\n",
    "    new_messages = []\n",
    "    if not isinstance(state[\"messages\"][-1], ToolMessage):\n",
    "        # Typically, the user will have updated the state during the interrupt.\n",
    "        # If they choose not to, we will include a placeholder ToolMessage to\n",
    "        # let the LLM continue.\n",
    "        new_messages.append(\n",
    "            create_response(\"No response from human.\", state[\"messages\"][-1])\n",
    "        )\n",
    "    return {\n",
    "        # Append the new messages\n",
    "        \"messages\": new_messages,\n",
    "        # Unset the flag\n",
    "        \"ask_human\": False,\n",
    "    }\n",
    "\n",
    "\n",
    "graph_builder.add_node(\"human\", human_node)\n",
    "\n",
    "\n",
    "def select_next_node(state: State):\n",
    "    if state[\"ask_human\"]:\n",
    "        return \"human\"\n",
    "    # Otherwise, we can route as before\n",
    "    return tools_condition(state)\n",
    "\n",
    "\n",
    "graph_builder.add_conditional_edges(\n",
    "    \"chatbot\",\n",
    "    select_next_node,\n",
    "    {\"human\": \"human\", \"tools\": \"tools\", END: END},\n",
    ")\n",
    "graph_builder.add_edge(\"tools\", \"chatbot\")\n",
    "graph_builder.add_edge(\"human\", \"chatbot\")\n",
    "graph_builder.add_edge(START, \"chatbot\")\n",
    "memory = MemorySaver()\n",
    "graph = graph_builder.compile(\n",
    "    checkpointer=memory,\n",
    "    interrupt_before=[\"human\"],\n",
    ")"
   ]
  },
  {
   "cell_type": "code",
   "execution_count": 5,
   "metadata": {},
   "outputs": [
    {
     "name": "stdout",
     "output_type": "stream",
     "text": [
      "================================\u001b[1m Human Message \u001b[0m=================================\n",
      "\n",
      "I'm learning LangGraph. Could you do some research on it for me?\n",
      "==================================\u001b[1m Ai Message \u001b[0m==================================\n",
      "\n",
      "[{'text': \"I'll search for information about LangGraph to help you learn about it.\", 'type': 'text'}, {'id': 'toolu_01MKR3qnorBe8Wh9mqii4Kat', 'input': {'query': 'What is LangGraph framework in AI development? How to use LangGraph'}, 'name': 'tavily_search_results_json', 'type': 'tool_use'}]\n",
      "Tool Calls:\n",
      "  tavily_search_results_json (toolu_01MKR3qnorBe8Wh9mqii4Kat)\n",
      " Call ID: toolu_01MKR3qnorBe8Wh9mqii4Kat\n",
      "  Args:\n",
      "    query: What is LangGraph framework in AI development? How to use LangGraph\n",
      "=================================\u001b[1m Tool Message \u001b[0m=================================\n",
      "Name: tavily_search_results_json\n",
      "\n",
      "[{\"url\": \"https://www.langchain.com/langgraph\", \"content\": \"Use LangGraph Platform to templatize your cognitive architecture so that tools, prompts, and models are easily configurable with LangGraph Platform Assistants. ... \\\"LangGraph has been instrumental for our AI development. Its robust framework for building stateful, multi-actor applications with LLMs has transformed how we evaluate and optimize\"}, {\"url\": \"https://www.datacamp.com/tutorial/langgraph-tutorial\", \"content\": \"LangGraph is a library within the LangChain ecosystem designed to tackle these challenges head-on. LangGraph provides a framework for defining, coordinating, and executing multiple LLM agents (or chains) in a structured manner. It simplifies the development process by enabling the creation of cyclical graphs, which are essential for developing\"}]\n",
      "==================================\u001b[1m Ai Message \u001b[0m==================================\n",
      "\n",
      "[{'text': 'Let me do another search to get more specific details about its implementation and features.', 'type': 'text'}, {'id': 'toolu_01KmQVTPYtEzFf4ciu8mSmBi', 'input': {'query': 'LangGraph tutorial implementation examples features Python'}, 'name': 'tavily_search_results_json', 'type': 'tool_use'}]\n",
      "Tool Calls:\n",
      "  tavily_search_results_json (toolu_01KmQVTPYtEzFf4ciu8mSmBi)\n",
      " Call ID: toolu_01KmQVTPYtEzFf4ciu8mSmBi\n",
      "  Args:\n",
      "    query: LangGraph tutorial implementation examples features Python\n",
      "=================================\u001b[1m Tool Message \u001b[0m=================================\n",
      "Name: tavily_search_results_json\n",
      "\n",
      "[{\"url\": \"https://medium.com/@lucas.dahan/hands-on-langgraph-building-a-multi-agent-assistant-06aa68ed942f\", \"content\": \"With a simple python main.py command, your first LangGraph project is up and running. This version explicitly describes the choices made by the graph. The idea is to provide insights to help you\"}, {\"url\": \"https://www.gettingstarted.ai/langgraph-tutorial-with-example/\", \"content\": \"LangGraph is a library built by the LangChain team that aims to help developers create graph-based single or multi-agent AI applications. As a low-level framework, LangGraph lets you control how agents interact with each other, which tools to use, and how information flows within the application. LangGraph uses this graph concept to organize AI agents and their interactions. We can then build our Graph by passing our State to the StateGraph class so that all graph nodes communicate by reading and writing to the shared state. A LangGraph node takes the state of the graph as a parameter and returns an updated state after it is executed. Great, now we'll wrap these mock methods and expose them as tools which will become part of the Tools node within our LangGraph graph.\"}]\n",
      "==================================\u001b[1m Ai Message \u001b[0m==================================\n",
      "\n",
      "Based on the research, here's what I can tell you about LangGraph:\n",
      "\n",
      "1. What is LangGraph:\n",
      "- It's a library within the LangChain ecosystem\n",
      "- It's designed as a framework for building stateful, multi-actor applications with LLMs\n",
      "- It's specifically created to help develop and coordinate multiple LLM agents or chains in a structured manner\n",
      "\n",
      "2. Key Features:\n",
      "- Allows creation of cyclical graphs for developing AI applications\n",
      "- Provides a framework for defining and coordinating multiple LLM agents\n",
      "- Enables state management across different components\n",
      "- Helps in templatizing cognitive architecture\n",
      "- Allows easy configuration of tools, prompts, and models\n",
      "\n",
      "3. Technical Implementation:\n",
      "- It's implemented in Python\n",
      "- Uses a state-based approach where nodes communicate through a shared state\n",
      "- Each node in the graph takes the state as a parameter and returns an updated state after execution\n",
      "- Allows developers to control:\n",
      "  - How agents interact with each other\n",
      "  - Which tools to use\n",
      "  - How information flows within the application\n",
      "\n",
      "4. Usage:\n",
      "- It's particularly useful for building multi-agent systems\n",
      "- Can be used to create structured workflows between different AI components\n",
      "- Helps in organizing and managing complex AI agent interactions\n",
      "- Allows for evaluation and optimization of LLM-based applications\n",
      "\n",
      "If you're looking to get started with LangGraph, you might want to:\n",
      "1. First ensure you're familiar with Python and LangChain basics\n",
      "2. Start with simple implementations using StateGraph class\n",
      "3. Practice creating basic nodes and understanding state management\n",
      "4. Gradually move to more complex multi-agent implementations\n",
      "\n",
      "Would you like me to search for more specific information about any particular aspect of LangGraph, such as installation, specific implementations, or best practices?\n"
     ]
    }
   ],
   "source": [
    "config = {\"configurable\": {\"thread_id\": \"1\"}}\n",
    "events = graph.stream(\n",
    "    {\n",
    "        \"messages\": [\n",
    "            (\"user\", \"I'm learning LangGraph. Could you do some research on it for me?\")\n",
    "        ]\n",
    "    },\n",
    "    config,\n",
    "    stream_mode=\"values\",\n",
    ")\n",
    "for event in events:\n",
    "    if \"messages\" in event:\n",
    "        event[\"messages\"][-1].pretty_print()"
   ]
  },
  {
   "cell_type": "code",
   "execution_count": 6,
   "metadata": {},
   "outputs": [
    {
     "name": "stdout",
     "output_type": "stream",
     "text": [
      "================================\u001b[1m Human Message \u001b[0m=================================\n",
      "\n",
      "Ya that's helpful. Maybe I'll build an autonomous agent with it!\n",
      "==================================\u001b[1m Ai Message \u001b[0m==================================\n",
      "\n",
      "[{'text': 'Let me search for specific information about building autonomous agents with LangGraph!', 'type': 'text'}, {'id': 'toolu_01XCKUsuUVgFdZ4TS2qiv2uJ', 'input': {'query': 'how to build autonomous agents with LangGraph examples tutorial'}, 'name': 'tavily_search_results_json', 'type': 'tool_use'}]\n",
      "Tool Calls:\n",
      "  tavily_search_results_json (toolu_01XCKUsuUVgFdZ4TS2qiv2uJ)\n",
      " Call ID: toolu_01XCKUsuUVgFdZ4TS2qiv2uJ\n",
      "  Args:\n",
      "    query: how to build autonomous agents with LangGraph examples tutorial\n",
      "=================================\u001b[1m Tool Message \u001b[0m=================================\n",
      "Name: tavily_search_results_json\n",
      "\n",
      "[{\"url\": \"https://langchain-ai.github.io/langgraph/tutorials/\", \"content\": \"Quick Start. Learn the basics of LangGraph through a comprehensive quick start in which you will build an agent from scratch. Quick Start: In this tutorial, you will build a support chatbot using LangGraph. LangGraph Cloud Quick Start: In this tutorial, you will build and deploy an agent to LangGraph Cloud.\"}, {\"url\": \"https://www.youtube.com/watch?v=8kuT80PTaGI\", \"content\": \"Build powerful multi-agent AI systems with LangGraph Studio! This detailed tutorial takes you from beginner to advanced, showcasing the power and ease of Lan\"}]\n",
      "==================================\u001b[1m Ai Message \u001b[0m==================================\n",
      "\n",
      "[{'text': 'Let me search for more specific implementation details:', 'type': 'text'}, {'id': 'toolu_01PdtBUU4aJarmhdQMHxi3LE', 'input': {'query': 'LangGraph autonomous agent implementation code example GitHub'}, 'name': 'tavily_search_results_json', 'type': 'tool_use'}]\n",
      "Tool Calls:\n",
      "  tavily_search_results_json (toolu_01PdtBUU4aJarmhdQMHxi3LE)\n",
      " Call ID: toolu_01PdtBUU4aJarmhdQMHxi3LE\n",
      "  Args:\n",
      "    query: LangGraph autonomous agent implementation code example GitHub\n",
      "=================================\u001b[1m Tool Message \u001b[0m=================================\n",
      "Name: tavily_search_results_json\n",
      "\n",
      "[{\"url\": \"https://github.com/langchain-ai/langgraph\", \"content\": \"GitHub - langchain-ai/langgraph: Build resilient language agents as graphs. LangGraph Platform is a commercial solution for deploying agentic applications to production, built on the open-source LangGraph framework. Let's take a look at a simple example of an agent that can use a search tool. # Define the tools for the agent to use # This means that after `tools` is called, `agent` node is called next. workflow.add_edge(\\\"tools\\\", 'agent') Define entry point and graph edges.First, we need to set the entry point for graph execution - agent node. Normal edge: after the tools are invoked, the graph should always return to the agent to decide what to do next LangGraph adds the input message to the internal state, then passes the state to the entrypoint node, \\\"agent\\\".\"}, {\"url\": \"https://medium.com/@lucas.dahan/hands-on-langgraph-building-a-multi-agent-assistant-06aa68ed942f\", \"content\": \"In this example, all three agents use OpenAI's model. However, LangGraph's allows for the integration of various models, parameters, and tasks within each agent.\"}]\n",
      "==================================\u001b[1m Ai Message \u001b[0m==================================\n",
      "\n",
      "Based on the research, here's what you need to know about building an autonomous agent with LangGraph:\n",
      "\n",
      "1. Basic Structure:\n",
      "- LangGraph allows you to build agents as graphs\n",
      "- You can define multiple nodes representing different components of your agent\n",
      "- The system maintains state across interactions\n",
      "- You can integrate various tools and models within your agent\n",
      "\n",
      "2. Key Components for Building an Agent:\n",
      "- StateGraph class for managing the overall flow\n",
      "- Tools node for defining available tools\n",
      "- Agent node for decision-making\n",
      "- Workflow edges to define how components interact\n",
      "\n",
      "3. Implementation Steps:\n",
      "```python\n",
      "# Basic structure would look something like:\n",
      "1. Define your tools\n",
      "2. Create your agent node\n",
      "3. Set up the workflow:\n",
      "   workflow = StateGraph()\n",
      "   workflow.add_node(\"agent\")\n",
      "   workflow.add_node(\"tools\")\n",
      "   workflow.add_edge(\"tools\", \"agent\")\n",
      "4. Define entry points\n",
      "5. Set up state management\n",
      "```\n",
      "\n",
      "4. Features You Can Implement:\n",
      "- Multiple tools integration\n",
      "- Decision-making capabilities\n",
      "- State persistence\n",
      "- Tool selection logic\n",
      "- Complex workflows with multiple steps\n",
      "\n",
      "5. Deployment Options:\n",
      "- You can run it locally\n",
      "- Deploy to LangGraph Cloud\n",
      "- Integrate with existing systems\n",
      "\n",
      "Some Cool Things You Could Build:\n",
      "1. A task-completion agent that breaks down and executes complex tasks\n",
      "2. A research assistant that can search and synthesize information\n",
      "3. A problem-solving agent that can use multiple tools\n",
      "4. A support chatbot with memory and tool usage capabilities\n",
      "\n",
      "Would you like me to search for more specific details about any particular type of agent you'd like to build? Or would you like to see more detailed code examples for a specific use case?\n"
     ]
    }
   ],
   "source": [
    "events = graph.stream(\n",
    "    {\n",
    "        \"messages\": [\n",
    "            (\"user\", \"Ya that's helpful. Maybe I'll build an autonomous agent with it!\")\n",
    "        ]\n",
    "    },\n",
    "    config,\n",
    "    stream_mode=\"values\",\n",
    ")\n",
    "for event in events:\n",
    "    if \"messages\" in event:\n",
    "        event[\"messages\"][-1].pretty_print()"
   ]
  },
  {
   "cell_type": "markdown",
   "metadata": {},
   "source": [
    "Let's rewind our graph using ``get_state_history`` method. We can replay the full state history to see everythin that occurred."
   ]
  },
  {
   "cell_type": "code",
   "execution_count": 19,
   "metadata": {},
   "outputs": [
    {
     "name": "stdout",
     "output_type": "stream",
     "text": [
      "Num messages: 12 Next:  ()\n",
      "----------------------------------------------------------------------------------------------------------------------------------------------------------------\n",
      "Num messages: 11 Next:  ('chatbot',)\n",
      "----------------------------------------------------------------------------------------------------------------------------------------------------------------\n",
      "Num messages: 10 Next:  ('tools',)\n",
      "----------------------------------------------------------------------------------------------------------------------------------------------------------------\n",
      "Num messages: 9 Next:  ('chatbot',)\n",
      "----------------------------------------------------------------------------------------------------------------------------------------------------------------\n",
      "Num messages: 8 Next:  ('tools',)\n",
      "----------------------------------------------------------------------------------------------------------------------------------------------------------------\n",
      "Num messages: 7 Next:  ('chatbot',)\n",
      "----------------------------------------------------------------------------------------------------------------------------------------------------------------\n",
      "Num messages: 6 Next:  ('__start__',)\n",
      "----------------------------------------------------------------------------------------------------------------------------------------------------------------\n",
      "Num messages: 6 Next:  ()\n",
      "----------------------------------------------------------------------------------------------------------------------------------------------------------------\n",
      "Num messages: 5 Next:  ('chatbot',)\n",
      "----------------------------------------------------------------------------------------------------------------------------------------------------------------\n",
      "Num messages: 4 Next:  ('tools',)\n",
      "----------------------------------------------------------------------------------------------------------------------------------------------------------------\n",
      "Num messages: 3 Next:  ('chatbot',)\n",
      "----------------------------------------------------------------------------------------------------------------------------------------------------------------\n",
      "Num messages: 2 Next:  ('tools',)\n",
      "----------------------------------------------------------------------------------------------------------------------------------------------------------------\n",
      "Num messages: 1 Next:  ('chatbot',)\n",
      "----------------------------------------------------------------------------------------------------------------------------------------------------------------\n",
      "Num messages: 0 Next:  ('__start__',)\n",
      "----------------------------------------------------------------------------------------------------------------------------------------------------------------\n"
     ]
    }
   ],
   "source": [
    "to_replay = None\n",
    "for state in graph.get_state_history(config):\n",
    "    print(\"Num messages:\" , len(state.values[\"messages\"]), \"Next: \", state.next)\n",
    "    print(\"--\" * 80)\n",
    "    if len(state.values[\"messages\"]) == 4: # e.g.\n",
    "        to_replay = state\n"
   ]
  },
  {
   "cell_type": "code",
   "execution_count": 20,
   "metadata": {},
   "outputs": [
    {
     "name": "stdout",
     "output_type": "stream",
     "text": [
      "('tools',)\n",
      "{'configurable': {'thread_id': '1', 'checkpoint_ns': '', 'checkpoint_id': '1efa9e97-1c6a-6395-8003-cf5cfd4ca161'}}\n"
     ]
    }
   ],
   "source": [
    "print(to_replay.next)\n",
    "print(to_replay.config)"
   ]
  },
  {
   "cell_type": "markdown",
   "metadata": {},
   "source": [
    "We have selected to replay it before chatbot, in tools."
   ]
  },
  {
   "cell_type": "code",
   "execution_count": 21,
   "metadata": {},
   "outputs": [
    {
     "name": "stdout",
     "output_type": "stream",
     "text": [
      "==================================\u001b[1m Ai Message \u001b[0m==================================\n",
      "\n",
      "[{'text': 'Let me do another search to get more specific details about its implementation and features.', 'type': 'text'}, {'id': 'toolu_01KmQVTPYtEzFf4ciu8mSmBi', 'input': {'query': 'LangGraph tutorial implementation examples features Python'}, 'name': 'tavily_search_results_json', 'type': 'tool_use'}]\n",
      "Tool Calls:\n",
      "  tavily_search_results_json (toolu_01KmQVTPYtEzFf4ciu8mSmBi)\n",
      " Call ID: toolu_01KmQVTPYtEzFf4ciu8mSmBi\n",
      "  Args:\n",
      "    query: LangGraph tutorial implementation examples features Python\n",
      "=================================\u001b[1m Tool Message \u001b[0m=================================\n",
      "Name: tavily_search_results_json\n",
      "\n",
      "[{\"url\": \"https://langchain-ai.github.io/langgraph/tutorials/\", \"content\": \"These notebooks introduce LangGraph through building various language agents and applications. Learn the basics of LangGraph through a comprehensive quick start in which you will build an agent from scratch. Quick Start: In this tutorial, you will build a support chatbot using LangGraph.\"}, {\"url\": \"https://medium.com/@lucas.dahan/hands-on-langgraph-building-a-multi-agent-assistant-06aa68ed942f\", \"content\": \"With a simple python main.py command, your first LangGraph project is up and running. This version explicitly describes the choices made by the graph. The idea is to provide insights to help you\"}]\n",
      "==================================\u001b[1m Ai Message \u001b[0m==================================\n",
      "\n",
      "Based on the research, here's what I can tell you about LangGraph:\n",
      "\n",
      "1. What is LangGraph?\n",
      "- LangGraph is a library within the LangChain ecosystem\n",
      "- It's specifically designed for building stateful, multi-actor applications with Large Language Models (LLMs)\n",
      "- It provides a framework for defining, coordinating, and executing multiple LLM agents or chains in a structured manner\n",
      "\n",
      "2. Key Features:\n",
      "- Enables creation of cyclical graphs for developing complex AI applications\n",
      "- Helps in templatizing cognitive architecture\n",
      "- Allows easy configuration of tools, prompts, and models\n",
      "- Supports building stateful applications (maintains state between interactions)\n",
      "- Specializes in coordinating multiple AI agents working together\n",
      "\n",
      "3. Implementation:\n",
      "- It's implemented in Python\n",
      "- Comes with comprehensive tutorials and quick start guides\n",
      "- Can be used to build various applications like support chatbots and multi-agent assistants\n",
      "- Integrates well with the broader LangChain ecosystem\n",
      "\n",
      "4. Use Cases:\n",
      "- Building support chatbots\n",
      "- Creating multi-agent systems\n",
      "- Developing complex AI applications that require state management\n",
      "- Coordinating multiple LLM agents in a structured workflow\n",
      "\n",
      "If you're looking to get started with LangGraph, you might want to:\n",
      "1. Start with the official tutorials at langchain-ai.github.io/langgraph/tutorials/\n",
      "2. Begin with the quick start guide that walks you through building a basic agent\n",
      "3. Practice with simple implementations before moving to more complex multi-agent systems\n",
      "\n",
      "Would you like me to search for more specific information about any particular aspect of LangGraph, such as specific implementation details, example code, or best practices?\n"
     ]
    }
   ],
   "source": [
    "# The `checkpoint_id` in the `to_replay.config` corresponds to a state we've persisted to our checkpointer.\n",
    "for event in graph.stream(None, to_replay.config, stream_mode=\"values\"):\n",
    "    if \"messages\" in event:\n",
    "        event[\"messages\"][-1].pretty_print()"
   ]
  },
  {
   "cell_type": "markdown",
   "metadata": {},
   "source": [
    "And voilá! We used time-travel checkpoint to replay the graph from the desired node."
   ]
  }
 ],
 "metadata": {
  "kernelspec": {
   "display_name": "Python (lc-academy-env)",
   "language": "python",
   "name": "lc-academy-env"
  },
  "language_info": {
   "codemirror_mode": {
    "name": "ipython",
    "version": 3
   },
   "file_extension": ".py",
   "mimetype": "text/x-python",
   "name": "python",
   "nbconvert_exporter": "python",
   "pygments_lexer": "ipython3",
   "version": "3.11.0"
  }
 },
 "nbformat": 4,
 "nbformat_minor": 2
}
